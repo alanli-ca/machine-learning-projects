{
 "cells": [
  {
   "cell_type": "markdown",
   "metadata": {},
   "source": [
    "# Facial Recognition Using Convolutional Neural Networks\n",
    "###### _Code and commentary by Alan Li_\n",
    "___\n",
    "Basic understanding of machine learning concepts such as gradient descent and regularization is assumed.\n",
    "### Convolutional Neural Networks (CNN)\n",
    "___\n",
    "Introduction about CNNs..."
   ]
  },
  {
   "cell_type": "code",
   "execution_count": 13,
   "metadata": {},
   "outputs": [],
   "source": [
    "import os\n",
    "import numpy as np\n",
    "import tensorflow as tf\n",
    "import matplotlib.pyplot as plt\n",
    "from sklearn import preprocessing\n",
    "\n",
    "np.set_printoptions(precision=3, suppress=True)\n",
    "np.random.seed(42)\n",
    "tf.set_random_seed(42)\n",
    "os.environ['TF_CPP_MIN_LOG_LEVEL'] = '3'"
   ]
  },
  {
   "cell_type": "markdown",
   "metadata": {},
   "source": [
    "### The FaceScrub Data\n",
    "___\n",
    "The [FaceScrub](http://vintage.winklerbros.net/facescrub.html) dataset consists of over 100,000 face images of 530 people, both male and female. Only a subset of the FaceScrub dataset is used for this project, 3 female subjects and 3 male subjects:\n",
    "1. Female - \n",
    "2. Female - \n",
    "3. Female - \n",
    "4. Male - \n",
    "5. Male - \n",
    "6. Male - \n",
    "\n",
    "Let's load the data first. The function used to load the data can be used for both facial recognition as well as gender recognition."
   ]
  },
  {
   "cell_type": "code",
   "execution_count": 2,
   "metadata": {},
   "outputs": [],
   "source": [
    "def load_face_data(data_path, target_path, task=0):\n",
    "    # task = 0 >> face recognition\n",
    "    # task = 1 >> gender recognition\n",
    "    data = np.load(data_path)/255\n",
    "    data = np.reshape(data, [-1, 32*32])\n",
    "    target = np.load(target_path)\n",
    "    \n",
    "    np.random.seed(45689)\n",
    "    rnd_idx = np.arange(np.shape(data)[0])\n",
    "    np.random.shuffle(rnd_idx)\n",
    "    \n",
    "    trBatch = int(0.8*len(rnd_idx))\n",
    "    validBatch = int(0.1*len(rnd_idx))\n",
    "    trainData, validData, testData = data[rnd_idx[1:trBatch],:], \\\n",
    "    data[rnd_idx[trBatch+1:trBatch + validBatch],:], \\\n",
    "    data[rnd_idx[trBatch + validBatch+1:-1],:]\n",
    "\n",
    "    trainTarget, validTarget, testTarget = target[rnd_idx[1:trBatch], task], \\\n",
    "    target[rnd_idx[trBatch+1:trBatch + validBatch], task], \\\n",
    "    target[rnd_idx[trBatch + validBatch + 1:-1], task]\n",
    "    \n",
    "    if task == 0:\n",
    "        # encode scalar targets to n x 10 arrays\n",
    "        lb = preprocessing.LabelBinarizer()\n",
    "        lb.fit(np.sort(trainTarget))\n",
    "        trainTarget = lb.transform(trainTarget)\n",
    "        validTarget = lb.transform(validTarget)\n",
    "        testTarget = lb.transform(testTarget)\n",
    "    elif task == 1:\n",
    "        trainTarget = two_class_onehot(trainTarget)\n",
    "        validTarget = two_class_onehot(validTarget)\n",
    "        testTarget = two_class_onehot(testTarget)\n",
    "    \n",
    "    return trainData, validData, testData, trainTarget, validTarget, testTarget\n",
    "\n",
    "def two_class_onehot(binary_label):\n",
    "    binary_label_one_hot = np.zeros((binary_label.shape[0], 2))\n",
    "    label_range = np.arange(binary_label.shape[0])\n",
    "    binary_label_one_hot[label_range, binary_label] = 1\n",
    "    return binary_label_one_hot\n",
    "\n",
    "# set recognition task: 0 for face, 1 for gender\n",
    "task = 0\n",
    "\n",
    "# load data\n",
    "trainData, validData, testData, trainTarget, validTarget, testTarget\\\n",
    "= load_face_data(\"./data/facescrub/data.npy\", \"./data/facescrub/target.npy\", task=task)\n",
    "train_idx = np.arange(trainData.shape[0]) "
   ]
  },
  {
   "cell_type": "markdown",
   "metadata": {},
   "source": [
    "### Data Visualization\n",
    "___\n",
    "It's good pratice to visualize the data prior to building and training your model. In this case, because the data is pictures, it makes a lot of sense to see what the pictures look like and how the model might have trouble distinguishing between differnce faces."
   ]
  },
  {
   "cell_type": "code",
   "execution_count": 3,
   "metadata": {
    "collapsed": true
   },
   "outputs": [],
   "source": [
    "# TO DO"
   ]
  },
  {
   "cell_type": "markdown",
   "metadata": {},
   "source": [
    "### Set Hyper-parameters of the CNN\n",
    "___\n",
    "In machine learning, a hyper-parameter is a fixed parameter that is set **prior** to training the model. Contrast this with parameters such as the weight variable, which constantly updates during the training process.\n",
    "\n",
    "In a CNN, there are many hyper-parameters that need to be specified:\n",
    "* filter size - the size of the (square) filter that slides across the image\n",
    "* convolutional stride - the step size of the filter as it slides across the image\n",
    "* pool size - the size of the (square) max pooling operation on the convolutional layer\n",
    "* padding - determines if zero-padding (padding=\"SAME\") should be added to the perimeter of the input or not (padding=\"VALID\")\n",
    "* learning rate - the step size of the gradient descent\n",
    "* regularization term - the L2 norm penalty applied to the weight variables to prevent it from becoming too large\n",
    "* keep probability - 1 minus the probability of neurons being dropped in a hidden layer during training\n",
    "* number of epochs - total number of epochs to train the model. A single epoch is a complete cycle through all the training examples"
   ]
  },
  {
   "cell_type": "code",
   "execution_count": 4,
   "metadata": {
    "collapsed": true
   },
   "outputs": [],
   "source": [
    "# define image input size and output classes\n",
    "n_input = 1024 # 32 pixels * 32 pixels = 1024 pixels\n",
    "if task == 0:\n",
    "    n_classes = 6\n",
    "else:\n",
    "    n_classes = 2\n",
    "\n",
    "# define hyper-parameters\n",
    "filter_size = 5 \n",
    "num_filters = 32 \n",
    "conv_stride = 1 \n",
    "max_pool_stride = 2 \n",
    "pool_size = 3 \n",
    "padding = \"VALID\"\n",
    "learning_rate = 0.002\n",
    "regularization_term = 0.001\n",
    "n_epochs = 200\n",
    "keep_probability = 0.5"
   ]
  },
  {
   "cell_type": "markdown",
   "metadata": {},
   "source": [
    "### Building Blocks of the Convolutional Neural Network (CNN)\n",
    "___\n",
    "The process of building a CNN is much like building a LEGO figure from numerous small blocks. We first write the function to define the:\n",
    "1. weight variables\n",
    "2. bias variables\n",
    "3. convolutional layer\n",
    "4. max pooling layer\n",
    "\n",
    "These 4 functions serve as the building blocks of our CNN.\n",
    "\n",
    "Notice that unlike the bias variables that are initialized to 0, the weight variables are initialzed using the [Xavier](http://proceedings.mlr.press/v9/glorot10a/glorot10a.pdf) initializer, which sets the initial value of the weights to normal distribution with $$\\textrm{variance} = \\frac{2}{\\# \\textrm{input units} + \\# \\textrm{output units}}$$\n",
    "\n",
    "The main reason for this is because if the weights are all initialized to 0, then it will not be possible for the neural network to learn anything. This is because gradient descent method will not work due to the fact that the gradient calculated will always be 0, therefore the weights in the network will never update."
   ]
  },
  {
   "cell_type": "code",
   "execution_count": 5,
   "metadata": {
    "collapsed": true
   },
   "outputs": [],
   "source": [
    "def weight_variable(shape):\n",
    "    initial = tf.contrib.layers.xavier_initializer(uniform=False, seed=42)\n",
    "    W = tf.get_variable(\"weight\", shape=shape, initializer=initial)\n",
    "    return W\n",
    "\n",
    "def bias_variable(shape):\n",
    "    initial = tf.zeros_initializer()\n",
    "    b = tf.get_variable(\"bias\", shape=shape, initializer=initial)\n",
    "    return b"
   ]
  },
  {
   "cell_type": "markdown",
   "metadata": {},
   "source": [
    "The convolutional layer has configurable stride length and padding type, which can be tuned as part of hyper-parameter search.\n",
    "\n",
    "The max pooling layer also has configurable stride length and pool size, to be tuned as part of hyper-parameter search."
   ]
  },
  {
   "cell_type": "code",
   "execution_count": 6,
   "metadata": {
    "collapsed": true
   },
   "outputs": [],
   "source": [
    "def conv2d(X, W, stride=1, padding=\"VALID\"):\n",
    "    return tf.nn.conv2d(X, W, strides=[1,stride,stride,1], padding=padding)\n",
    "\n",
    "def max_pool(X, stride=2, pool_size=3, padding=\"VALID\"):\n",
    "    return tf.nn.max_pool(X, ksize=[1, pool_size, pool_size, 1], strides=[1, stride, stride, 1], padding=padding)"
   ]
  },
  {
   "cell_type": "markdown",
   "metadata": {},
   "source": [
    "### Build the CNN\n",
    "___\n",
    "With the building blocks of the CNN in place, it is time to actually put the blocks together to form the CNN needed for this facial recognition task.\n",
    "\n",
    "First, we need to reset tensorflow graph to erase previous variables and saved values. Then we define placeholders for the input, output, and keep probability that can be substituted later during training, Lastly, we need to reshape the input before feeding it into the convolutional layer."
   ]
  },
  {
   "cell_type": "code",
   "execution_count": 7,
   "metadata": {
    "collapsed": true
   },
   "outputs": [],
   "source": [
    "tf.reset_default_graph()\n",
    " \n",
    "X = tf.placeholder(tf.float32, shape=(None, n_input), name=\"X\")\n",
    "y = tf.placeholder(tf.int32, shape=(None, n_classes), name=\"y\")\n",
    "keep_prob = tf.placeholder(tf.float32)\n",
    "\n",
    "X_image = tf.reshape(X, [-1, 32, 32, 1])"
   ]
  },
  {
   "cell_type": "markdown",
   "metadata": {},
   "source": [
    "Now, we are ready to build the convolutional layer and the max pooling layer. Note that the convolutional layer uses the ReLU activation function."
   ]
  },
  {
   "cell_type": "code",
   "execution_count": 8,
   "metadata": {},
   "outputs": [],
   "source": [
    "# convolutional layer 1\n",
    "with tf.variable_scope(\"conv_1\"):\n",
    "    W_conv1 = weight_variable([filter_size, filter_size, 1, num_filters])\n",
    "    b_conv1 = bias_variable([num_filters])\n",
    "    h_conv1 = tf.nn.relu(conv2d(X_image, W_conv1, stride=conv_stride, padding=padding) + b_conv1)\n",
    "\n",
    "conv_out_dim = np.int(np.floor((32-filter_size)/conv_stride + 1))\n",
    "max_pool_out_dim = np.int(np.floor((conv_out_dim-pool_size)/max_pool_stride + 1))\n",
    "\n",
    "# max pooling layer 1\n",
    "with tf.variable_scope(\"pool_1\"):\n",
    "    h_pool1 = max_pool(h_conv1, stride=max_pool_stride, pool_size=pool_size, padding=padding)    \n",
    "    h_pool1_flat = tf.reshape(h_pool1, [-1, max_pool_out_dim*max_pool_out_dim*num_filters])"
   ]
  },
  {
   "cell_type": "markdown",
   "metadata": {},
   "source": [
    "The output of the max pooling layer then becomes the input to the first of two fully-connected layers.\n",
    "\n",
    "To complete the last layer of the CNN architecture, the output of the second fully-connected layer is fed into the final output layer."
   ]
  },
  {
   "cell_type": "code",
   "execution_count": 9,
   "metadata": {
    "collapsed": true
   },
   "outputs": [],
   "source": [
    "# fully connected layer 1\n",
    "with tf.variable_scope(\"fc_1\"):\n",
    "    W_fc1 = weight_variable([max_pool_out_dim*max_pool_out_dim*num_filters, 384])\n",
    "    b_fc1 = bias_variable([384])\n",
    "    h_fc1 = tf.nn.relu(tf.matmul(h_pool1_flat, W_fc1) + b_fc1)\n",
    "    h_fc1_dropout = tf.nn.dropout(h_fc1, keep_prob=keep_prob)\n",
    "\n",
    "# fully connected layer 2\n",
    "with tf.variable_scope(\"fc_2\"):\n",
    "    W_fc2 = weight_variable([384, 192])\n",
    "    b_fc2 = bias_variable([192])\n",
    "    h_fc2 = tf.nn.relu(tf.matmul(h_fc1_dropout, W_fc2) + b_fc2)\n",
    "    h_fc2_dropout = tf.nn.dropout(h_fc2, keep_prob=keep_prob)\n",
    "\n",
    "# output layer\n",
    "with tf.variable_scope(\"output_1\"):\n",
    "    W_fc3 = weight_variable([192, n_classes])\n",
    "    b_fc3 = bias_variable([n_classes])\n",
    "    y_conv = tf.matmul(h_fc2_dropout, W_fc3) + b_fc3"
   ]
  },
  {
   "cell_type": "markdown",
   "metadata": {},
   "source": [
    "Now that all the layers of the CNN are in place, it is almost ready to start training. Before training can actually start, we need to define a cost function as our minimization objective in gradient descent. The cost function in this minimization objective is a sum of the softmax cross entropy loss and the L2 norm of the weights.\n",
    "* The softmax function is commonly used and is applied to the output vector (from the last layer of the fully-connected network) in order to \"squash\" the values of the vector into new values in the range [0, 1] and that add up to 1.\n",
    "* L2 norm penalty is applied on all the weight variables. This is a regularization technique that prevents any one value of the vector from becoming too large and overfitting to the training data.\n",
    "\n",
    "Finally, while the cost function is a great mathematical expression that can be used by the machine learning algoritm to perform gradient descent, we still need to evalate the performance of the model using a metric that's more familiar - an accuracy or error metric."
   ]
  },
  {
   "cell_type": "code",
   "execution_count": 10,
   "metadata": {
    "collapsed": true
   },
   "outputs": [],
   "source": [
    "# compute cost function\n",
    "cross_entropy = tf.reduce_mean(tf.nn.softmax_cross_entropy_with_logits(labels=y, logits=y_conv))\n",
    "W1 = tf.get_default_graph().get_tensor_by_name(\"fc_1/weight:0\")\n",
    "W2 = tf.get_default_graph().get_tensor_by_name(\"fc_2/weight:0\")\n",
    "W3 = tf.get_default_graph().get_tensor_by_name(\"output_1/weight:0\")\n",
    "reg_loss = tf.reduce_sum(tf.pow(tf.abs(W1),2)) + tf.reduce_sum(tf.pow(tf.abs(W2),2)) + tf.reduce_sum(tf.pow(tf.abs(W3),2))\n",
    "cost = cross_entropy + (reg_loss * regularization_term)\n",
    "\n",
    "# compute error\n",
    "correct = tf.equal(tf.argmax(y_conv, axis=1), tf.argmax(y, axis=1))\n",
    "error = 1 - tf.reduce_mean(tf.cast(correct, tf.float32))"
   ]
  },
  {
   "cell_type": "markdown",
   "metadata": {},
   "source": [
    "With the cost function and error metrics defined, we are finally ready to perform training the data and see how the neural network's performance increases over time through plots of error vs. epochs trained. The functions below help keep track of the cost and error rate through the training process."
   ]
  },
  {
   "cell_type": "code",
   "execution_count": 11,
   "metadata": {},
   "outputs": [],
   "source": [
    "def plot_figures(train_costs, train_errors, valid_costs, valid_errors, task):\n",
    "    task_dict = {\n",
    "        0: \"Face ID\",\n",
    "        1: \"Gender ID\"\n",
    "    }\n",
    "    \n",
    "    fig = plt.figure(figsize=(10, 5))\n",
    "\n",
    "    ax1 = fig.add_subplot(1, 2, 1)\n",
    "    ax1.plot(train_costs, label=\"train\")\n",
    "    ax1.plot(valid_costs, label=\"valid\", linestyle=\"dashed\")\n",
    "    ax1.set_xlabel(\"Epoch\")\n",
    "    ax1.set_ylabel(\"Cost\")\n",
    "    ax1.set_title(\"Cost vs. Epoch for {}\".format(task_dict[task]))\n",
    "    ax1.legend()\n",
    "\n",
    "    ax2 = fig.add_subplot(1, 2, 2)\n",
    "    ax2.plot(train_errors, label=\"train\")\n",
    "    ax2.plot(valid_errors, label=\"valid\", linestyle=\"dashed\")\n",
    "    ax2.set_xlabel(\"Epoch\")\n",
    "    ax2.set_ylabel(\"Error\")\n",
    "    ax2.set_title(\"Error vs. Epoch for {}\".format(task_dict[task]))\n",
    "    ax2.set_ylim([0, 1])\n",
    "    ax2.legend()\n",
    "\n",
    "    plt.tight_layout()\n",
    "    plt.show()"
   ]
  },
  {
   "cell_type": "markdown",
   "metadata": {},
   "source": [
    "### Training Explained\n",
    "___\n",
    "In this CNN, training is performed using gradient descent with the [Adam](https://arxiv.org/abs/1412.6980) method. Dropout is used in addition to L2 norm penalty in order to prevent overfitting and the dropout rate is set to 0.5 during training. During evaluation of costs and errors at each epoch, dropout is **not** used."
   ]
  },
  {
   "cell_type": "code",
   "execution_count": 12,
   "metadata": {},
   "outputs": [
    {
     "name": "stdout",
     "output_type": "stream",
     "text": [
      "> epoch: 0\n",
      "> epoch: 10\n",
      "> epoch: 20\n",
      "> epoch: 30\n",
      "> epoch: 40\n",
      "> epoch: 50\n",
      "> epoch: 60\n",
      "> epoch: 70\n",
      "> epoch: 80\n",
      "> epoch: 90\n",
      "> epoch: 100\n",
      "> epoch: 110\n",
      "> epoch: 120\n",
      "> epoch: 130\n",
      "> epoch: 140\n",
      "> epoch: 150\n",
      "> epoch: 160\n",
      "> epoch: 170\n",
      "> epoch: 180\n",
      "> epoch: 190\n",
      "lowest validation error epoch: 126\n",
      "train_error: 0.000\n",
      "valid_error: 0.065\n",
      "test_error: 0.065\n"
     ]
    },
    {
     "data": {
      "image/png": "[encoded data removed]",
      "text/plain": [
       "<matplotlib.figure.Figure at 0x1257d8e48>"
      ]
     },
     "metadata": {},
     "output_type": "display_data"
    }
   ],
   "source": [
    "# training op\n",
    "optimizer = tf.train.AdamOptimizer(learning_rate).minimize(cost)\n",
    "\n",
    "# initialize variables and session\n",
    "init = tf.global_variables_initializer()\n",
    "with tf.Session() as sess:\n",
    "    init.run()\n",
    "\n",
    "    # initialize cost and error variables\n",
    "    train_costs = []\n",
    "    train_errors = []\n",
    "    valid_costs = []\n",
    "    valid_errors = []\n",
    "    test_costs = []\n",
    "    test_errors = []\n",
    "\n",
    "    for epoch in range(n_epochs):\n",
    "        if (epoch % 10) == 0:\n",
    "            print(\"> epoch: {}\".format(epoch))\n",
    "\n",
    "        # train epoch cost and error\n",
    "        train_costs = np.append(train_costs, cost.eval(feed_dict={X: trainData, y: trainTarget, keep_prob: 1.0}))\n",
    "        train_errors = np.append(train_errors, error.eval(feed_dict={X: trainData, y: trainTarget, keep_prob: 1.0}))\n",
    "\n",
    "        # valid epoch cost and error\n",
    "        valid_costs = np.append(valid_costs, cost.eval(feed_dict={X: validData, y: validTarget, keep_prob: 1.0}))\n",
    "        valid_errors = np.append(valid_errors, error.eval(feed_dict={X: validData, y: validTarget, keep_prob: 1.0}))\n",
    "\n",
    "        # test epoch cost and error\n",
    "        test_costs = np.append(test_costs, cost.eval(feed_dict={X: testData, y: testTarget, keep_prob: 1.0}))\n",
    "        test_errors = np.append(test_errors, error.eval(feed_dict={X: testData, y: testTarget, keep_prob: 1.0}))\n",
    "\n",
    "        # training step\n",
    "        sess.run(optimizer, feed_dict={X: trainData, y: trainTarget, keep_prob: keep_probability})\n",
    "\n",
    "    # print losses and errors\n",
    "    lowest_valid_error_epoch = np.argmin(valid_errors)\n",
    "    print(\"lowest validation error epoch: {}\".format(lowest_valid_error_epoch))\n",
    "    print(\"train_error: {0:0.3f}\".format(train_errors[lowest_valid_error_epoch]))\n",
    "    print(\"valid_error: {0:0.3f}\".format(valid_errors[lowest_valid_error_epoch]))\n",
    "    print(\"test_error: {0:0.3f}\".format(test_errors[lowest_valid_error_epoch]))\n",
    "\n",
    "    # plot loss and error vs. epoch\n",
    "    plot_figures(train_costs, train_errors, valid_costs, valid_errors, task)"
   ]
  }
 ],
 "metadata": {
  "kernelspec": {
   "display_name": "Python 3",
   "language": "python",
   "name": "python3"
  },
  "language_info": {
   "codemirror_mode": {
    "name": "ipython",
    "version": 3
   },
   "file_extension": ".py",
   "mimetype": "text/x-python",
   "name": "python",
   "nbconvert_exporter": "python",
   "pygments_lexer": "ipython3",
   "version": "3.6.2"
  }
 },
 "nbformat": 4,
 "nbformat_minor": 2
}
